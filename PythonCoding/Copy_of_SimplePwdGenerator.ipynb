{
  "nbformat": 4,
  "nbformat_minor": 0,
  "metadata": {
    "colab": {
      "provenance": [],
      "authorship_tag": "ABX9TyN5Afo/FjgsCN6QgwZ5MLDy",
      "include_colab_link": true
    },
    "kernelspec": {
      "name": "python3",
      "display_name": "Python 3"
    },
    "language_info": {
      "name": "python"
    }
  },
  "cells": [
    {
      "cell_type": "markdown",
      "metadata": {
        "id": "view-in-github",
        "colab_type": "text"
      },
      "source": [
        "<a href=\"https://colab.research.google.com/github/raanvine/myfirstrepo/blob/main/PythonCoding/Copy_of_SimplePwdGenerator.ipynb\" target=\"_parent\"><img src=\"https://colab.research.google.com/assets/colab-badge.svg\" alt=\"Open In Colab\"/></a>"
      ]
    },
    {
      "cell_type": "markdown",
      "source": [
        "Simple Random Password Generator\n",
        "\n",
        "Vineet Ravichandran"
      ],
      "metadata": {
        "id": "Khbf2AC4rlBk"
      }
    },
    {
      "cell_type": "code",
      "execution_count": null,
      "metadata": {
        "colab": {
          "base_uri": "https://localhost:8080/"
        },
        "id": "Pjz2Sd7lrYQz",
        "outputId": "aafa0be1-18c5-4858-8a85-f4cfe5cb941b"
      },
      "outputs": [
        {
          "output_type": "stream",
          "name": "stdout",
          "text": [
            "Y24r0zWSmi\n"
          ]
        }
      ],
      "source": [
        "import random\n",
        "\n",
        "#define combinations\n",
        "lowerchars = 'abcdefghijklmnopqrstuvwxyz'\n",
        "upperchars = 'ABCDEFGHIJKLMNOPQRSTUVWXYZ'\n",
        "numbers = '0123456789'\n",
        "symbols = '!@#$%^&*'\n",
        "\n",
        "combination = lowerchars + upperchars + numbers + symbols\n",
        "\n",
        "#fix the length of password\n",
        "length = 10\n",
        "\n",
        "#generate the password\n",
        "password = ''.join(random.sample(combination, length))\n",
        "\n",
        "#print the random password\n",
        "print(password)"
      ]
    }
  ]
}